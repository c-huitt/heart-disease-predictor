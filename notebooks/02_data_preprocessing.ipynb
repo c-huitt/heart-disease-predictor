{
 "cells": [
  {
   "cell_type": "code",
   "id": "initial_id",
   "metadata": {
    "collapsed": true,
    "ExecuteTime": {
     "end_time": "2024-10-12T19:42:12.419405Z",
     "start_time": "2024-10-12T19:42:12.416069Z"
    }
   },
   "source": [
    "from src.data_preprocessing import *\n",
    "import pandas as pd\n",
    "from sklearn.experimental import enable_iterative_imputer\n",
    "from sklearn.impute import IterativeImputer\n",
    "from sklearn.ensemble import RandomForestClassifier\n",
    "from sklearn.preprocessing import LabelEncoder\n",
    "from sklearn.impute import SimpleImputer\n",
    "import seaborn as sns"
   ],
   "outputs": [],
   "execution_count": 132
  },
  {
   "metadata": {
    "ExecuteTime": {
     "end_time": "2024-10-12T19:42:12.441606Z",
     "start_time": "2024-10-12T19:42:12.434508Z"
    }
   },
   "cell_type": "code",
   "source": [
    "# Reading raw data file\n",
    "df_raw = pd.read_csv('../data/heart_disease_data.csv', header=0)\n",
    "\n",
    "df = df_raw.copy()\n",
    "df.info()"
   ],
   "id": "8382e78907580089",
   "outputs": [
    {
     "name": "stdout",
     "output_type": "stream",
     "text": [
      "<class 'pandas.core.frame.DataFrame'>\n",
      "RangeIndex: 920 entries, 0 to 919\n",
      "Data columns (total 16 columns):\n",
      " #   Column    Non-Null Count  Dtype  \n",
      "---  ------    --------------  -----  \n",
      " 0   id        920 non-null    int64  \n",
      " 1   age       920 non-null    int64  \n",
      " 2   sex       920 non-null    object \n",
      " 3   dataset   920 non-null    object \n",
      " 4   cp        920 non-null    object \n",
      " 5   trestbps  861 non-null    float64\n",
      " 6   chol      890 non-null    float64\n",
      " 7   fbs       830 non-null    object \n",
      " 8   restecg   918 non-null    object \n",
      " 9   thalch    865 non-null    float64\n",
      " 10  exang     865 non-null    object \n",
      " 11  oldpeak   858 non-null    float64\n",
      " 12  slope     611 non-null    object \n",
      " 13  ca        309 non-null    float64\n",
      " 14  thal      434 non-null    object \n",
      " 15  num       920 non-null    int64  \n",
      "dtypes: float64(5), int64(3), object(8)\n",
      "memory usage: 115.1+ KB\n"
     ]
    }
   ],
   "execution_count": 133
  },
  {
   "metadata": {
    "ExecuteTime": {
     "end_time": "2024-10-12T19:42:12.462306Z",
     "start_time": "2024-10-12T19:42:12.459328Z"
    }
   },
   "cell_type": "code",
   "source": [
    "missing_values = df.isnull().sum()\n",
    "\n",
    "# Filter out columns that have no missing values\n",
    "missing_values = missing_values[missing_values > 0]\n",
    "\n",
    "# Display missing values sorted\n",
    "missing_values_sorted = missing_values.sort_values(ascending=False)\n",
    "print(\"\\nColumns with missing values sorted by count:\")\n",
    "print(missing_values_sorted)"
   ],
   "id": "a6153798bb7429f8",
   "outputs": [
    {
     "name": "stdout",
     "output_type": "stream",
     "text": [
      "\n",
      "Columns with missing values sorted by count:\n",
      "ca          611\n",
      "thal        486\n",
      "slope       309\n",
      "fbs          90\n",
      "oldpeak      62\n",
      "trestbps     59\n",
      "thalch       55\n",
      "exang        55\n",
      "chol         30\n",
      "restecg       2\n",
      "dtype: int64\n"
     ]
    }
   ],
   "execution_count": 134
  },
  {
   "metadata": {
    "ExecuteTime": {
     "end_time": "2024-10-12T19:42:12.483615Z",
     "start_time": "2024-10-12T19:42:12.481531Z"
    }
   },
   "cell_type": "code",
   "source": [
    "# Separate numerical and categorical columns\n",
    "numerical_columns = df.select_dtypes(include=['int64', 'float64']).columns\n",
    "categorical_columns = df.select_dtypes(include=['object']).columns"
   ],
   "id": "635255018ce62f15",
   "outputs": [],
   "execution_count": 135
  },
  {
   "metadata": {
    "ExecuteTime": {
     "end_time": "2024-10-12T19:42:12.513022Z",
     "start_time": "2024-10-12T19:42:12.495665Z"
    }
   },
   "cell_type": "code",
   "source": [
    "# Impute numerical data using Iterative Imputer\n",
    "numerical_imputer = IterativeImputer(random_state=0)\n",
    "df[numerical_columns] = numerical_imputer.fit_transform(df[numerical_columns])"
   ],
   "id": "232c97dbb936d545",
   "outputs": [],
   "execution_count": 136
  },
  {
   "metadata": {
    "ExecuteTime": {
     "end_time": "2024-10-12T19:42:12.528377Z",
     "start_time": "2024-10-12T19:42:12.524824Z"
    }
   },
   "cell_type": "code",
   "source": [
    "# Encode categorical data\n",
    "label_encoders = {}\n",
    "for col in categorical_columns:\n",
    "    label_encoders[col] = LabelEncoder()\n",
    "    df[col] = label_encoders[col].fit_transform(df[col].astype(str))"
   ],
   "id": "e34f8622acd54f7d",
   "outputs": [],
   "execution_count": 137
  },
  {
   "metadata": {
    "ExecuteTime": {
     "end_time": "2024-10-12T19:42:12.543864Z",
     "start_time": "2024-10-12T19:42:12.539221Z"
    }
   },
   "cell_type": "code",
   "source": [
    "# Impute categorical data using Random Forest\n",
    "rf_imputer = SimpleImputer(strategy='most_frequent')\n",
    "df[categorical_columns] = rf_imputer.fit_transform(df[categorical_columns])"
   ],
   "id": "d56f31f7a9874687",
   "outputs": [],
   "execution_count": 138
  },
  {
   "metadata": {
    "ExecuteTime": {
     "end_time": "2024-10-12T19:42:13.230745Z",
     "start_time": "2024-10-12T19:42:12.555433Z"
    }
   },
   "cell_type": "code",
   "source": [
    "# Create a Random Forest Classifier for each categorical column\n",
    "rf_imputers = {}\n",
    "for col in categorical_columns:\n",
    "    rf_imputers[col] = RandomForestClassifier(n_estimators=100, random_state=0)\n",
    "    \n",
    "    # Prepare the data for the Random Forest\n",
    "    X = df.drop(col, axis=1)\n",
    "    y = df[col]\n",
    "    \n",
    "    # Fit the Random Forest\n",
    "    rf_imputers[col].fit(X[y.notnull()], y[y.notnull()])\n",
    "    \n",
    "    # Impute missing values\n",
    "    missing_indices = y.isnull()\n",
    "    if missing_indices.sum() > 0:\n",
    "        imputed_values = rf_imputers[col].predict(X[missing_indices])\n",
    "        df.loc[missing_indices, col] = imputed_values"
   ],
   "id": "c533791b3f28b7e2",
   "outputs": [],
   "execution_count": 139
  },
  {
   "metadata": {
    "ExecuteTime": {
     "end_time": "2024-10-12T19:42:13.247065Z",
     "start_time": "2024-10-12T19:42:13.242700Z"
    }
   },
   "cell_type": "code",
   "source": [
    "# Print the first few rows of the preprocessed data\n",
    "print(df.head())\n",
    "\n",
    "# Check for any remaining missing values\n",
    "print(df.isnull().sum())"
   ],
   "id": "4cc09fcdb6040b58",
   "outputs": [
    {
     "name": "stdout",
     "output_type": "stream",
     "text": [
      "    id   age  sex  dataset  cp  trestbps   chol  fbs  restecg  thalch  exang  \\\n",
      "0  1.0  63.0    1        0   3     145.0  233.0    1        0   150.0      0   \n",
      "1  2.0  67.0    1        0   0     160.0  286.0    0        0   108.0      1   \n",
      "2  3.0  67.0    1        0   0     120.0  229.0    0        0   129.0      1   \n",
      "3  4.0  37.0    1        0   2     130.0  250.0    0        2   187.0      0   \n",
      "4  5.0  41.0    0        0   1     130.0  204.0    0        0   172.0      0   \n",
      "\n",
      "   oldpeak  slope   ca  thal  num  \n",
      "0      2.3      0  0.0     0  0.0  \n",
      "1      1.5      1  3.0     2  2.0  \n",
      "2      2.6      1  2.0     3  1.0  \n",
      "3      3.5      0  0.0     2  0.0  \n",
      "4      1.4      3  0.0     2  0.0  \n",
      "id          0\n",
      "age         0\n",
      "sex         0\n",
      "dataset     0\n",
      "cp          0\n",
      "trestbps    0\n",
      "chol        0\n",
      "fbs         0\n",
      "restecg     0\n",
      "thalch      0\n",
      "exang       0\n",
      "oldpeak     0\n",
      "slope       0\n",
      "ca          0\n",
      "thal        0\n",
      "num         0\n",
      "dtype: int64\n"
     ]
    }
   ],
   "execution_count": 140
  },
  {
   "metadata": {
    "ExecuteTime": {
     "end_time": "2024-10-12T19:42:13.260947Z",
     "start_time": "2024-10-12T19:42:13.258058Z"
    }
   },
   "cell_type": "code",
   "source": [
    "# Creating a function to plot boxplots for numerical columns\n",
    "def plot_boxplots(df, columns, n_cols=3):\n",
    "    n_rows = (len(columns) - 1) // n_cols + 1\n",
    "    fig, axes = plt.subplots(n_rows, n_cols, figsize=(5*n_cols, 5*n_rows))\n",
    "    axes = axes.flatten()\n",
    "    \n",
    "    for i, col in enumerate(columns):\n",
    "        sns.boxplot(x=df[col], ax=axes[i])\n",
    "        axes[i].set_title(col)\n",
    "        axes[i].set_xlabel('')\n",
    "    \n",
    "    for j in range(i+1, len(axes)):\n",
    "        axes[j].remove()\n",
    "    \n",
    "    plt.tight_layout()\n",
    "    plt.show()\n",
    "\n",
    "# Removing outliers\n",
    "def remove_outliers(df, columns, factor=1.5):\n",
    "    df_clean = df.copy()\n",
    "    for col in columns:\n",
    "        Q1 = df[col].quantile(0.25)\n",
    "        Q3 = df[col].quantile(0.75)\n",
    "        IQR = Q3 - Q1\n",
    "        lower_bound = Q1 - factor * IQR\n",
    "        upper_bound = Q3 + factor * IQR\n",
    "        df_clean = df_clean[(df_clean[col] >= lower_bound) & (df_clean[col] <= upper_bound)]\n",
    "    return df_clean"
   ],
   "id": "7790391f76ea6fc7",
   "outputs": [],
   "execution_count": 141
  },
  {
   "metadata": {
    "ExecuteTime": {
     "end_time": "2024-10-12T19:42:13.693918Z",
     "start_time": "2024-10-12T19:42:13.271452Z"
    }
   },
   "cell_type": "code",
   "source": "plot_boxplots(df, numerical_columns)",
   "id": "9f723ef4057944c0",
   "outputs": [
    {
     "data": {
      "text/plain": [
       "<Figure size 1500x1500 with 8 Axes>"
      ],
      "image/png": "[encoded data removed]"
     },
     "metadata": {},
     "output_type": "display_data"
    }
   ],
   "execution_count": 142
  },
  {
   "metadata": {
    "ExecuteTime": {
     "end_time": "2024-10-12T19:42:13.722936Z",
     "start_time": "2024-10-12T19:42:13.718545Z"
    }
   },
   "cell_type": "code",
   "source": [
    "print(\"trestbps statistics:\")\n",
    "print(df['trestbps'].describe())\n",
    "\n",
    "print(\"\\nNumber of negative trestbps values:\")\n",
    "print((df['trestbps'] == 0).sum())\n",
    "\n",
    "print(\"\\nNegative trestbps values:\")\n",
    "print(df[df['trestbps'] == 0]['trestbps'])\n",
    "\n",
    "# Removal of any rows with a trestbps value of zero\n",
    "df = df[df['trestbps'] != 0]"
   ],
   "id": "139737e38d1a1c9e",
   "outputs": [
    {
     "name": "stdout",
     "output_type": "stream",
     "text": [
      "trestbps statistics:\n",
      "count    920.000000\n",
      "mean     132.406419\n",
      "std       18.516892\n",
      "min        0.000000\n",
      "25%      120.000000\n",
      "50%      130.000000\n",
      "75%      140.000000\n",
      "max      200.000000\n",
      "Name: trestbps, dtype: float64\n",
      "\n",
      "Number of negative trestbps values:\n",
      "1\n",
      "\n",
      "Negative trestbps values:\n",
      "753    0.0\n",
      "Name: trestbps, dtype: float64\n"
     ]
    }
   ],
   "execution_count": 144
  },
  {
   "metadata": {
    "ExecuteTime": {
     "end_time": "2024-10-12T19:42:13.742705Z",
     "start_time": "2024-10-12T19:42:13.737861Z"
    }
   },
   "cell_type": "code",
   "source": [
    "print(\"chol statistics:\")\n",
    "print(df['chol'].describe())\n",
    "\n",
    "print(\"\\nNumber of negative chol values:\")\n",
    "print((df['chol'] == 0).sum())\n",
    "\n",
    "print(\"\\nNegative chol values:\")\n",
    "print(df[df['chol'] == 0]['chol'])\n",
    "\n",
    "# Removal of any rows with a chol value of zero\n",
    "df = df[df['chol'] != 0]"
   ],
   "id": "fffc4047c5f3b8a8",
   "outputs": [
    {
     "name": "stdout",
     "output_type": "stream",
     "text": [
      "chol statistics:\n",
      "count    919.000000\n",
      "mean     199.010658\n",
      "std      109.015820\n",
      "min        0.000000\n",
      "25%      175.009775\n",
      "50%      222.000000\n",
      "75%      267.000000\n",
      "max      603.000000\n",
      "Name: chol, dtype: float64\n",
      "\n",
      "Number of negative chol values:\n",
      "171\n",
      "\n",
      "Negative chol values:\n",
      "597    0.0\n",
      "598    0.0\n",
      "599    0.0\n",
      "600    0.0\n",
      "601    0.0\n",
      "      ... \n",
      "818    0.0\n",
      "819    0.0\n",
      "822    0.0\n",
      "839    0.0\n",
      "840    0.0\n",
      "Name: chol, Length: 171, dtype: float64\n"
     ]
    }
   ],
   "execution_count": 145
  },
  {
   "metadata": {
    "ExecuteTime": {
     "end_time": "2024-10-12T19:42:13.765574Z",
     "start_time": "2024-10-12T19:42:13.760327Z"
    }
   },
   "cell_type": "code",
   "source": [
    "print(\"Oldpeak statistics:\")\n",
    "print(df['oldpeak'].describe())\n",
    "\n",
    "print(\"\\nNumber of negative oldpeak values:\")\n",
    "print((df['oldpeak'] < 0).sum())\n",
    "\n",
    "print(\"\\nNegative oldpeak values:\")\n",
    "print(df[df['oldpeak'] < 0]['oldpeak'])\n",
    "\n",
    "# Removal of any rows with a oldpeak value less than zero\n",
    "df = df[df['oldpeak'] > 0]"
   ],
   "id": "452dec2d499495a8",
   "outputs": [
    {
     "name": "stdout",
     "output_type": "stream",
     "text": [
      "Oldpeak statistics:\n",
      "count    748.000000\n",
      "mean       0.905749\n",
      "std        1.071895\n",
      "min        0.000000\n",
      "25%        0.000000\n",
      "50%        0.521441\n",
      "75%        1.500000\n",
      "max        6.200000\n",
      "Name: oldpeak, dtype: float64\n",
      "\n",
      "Number of negative oldpeak values:\n",
      "0\n",
      "\n",
      "Negative oldpeak values:\n",
      "Series([], Name: oldpeak, dtype: float64)\n"
     ]
    }
   ],
   "execution_count": 146
  },
  {
   "metadata": {
    "ExecuteTime": {
     "end_time": "2024-10-12T19:42:13.874410Z",
     "start_time": "2024-10-12T19:42:13.870325Z"
    }
   },
   "cell_type": "code",
   "source": [
    "df.to_csv('../data/hd_data_preprocessed.csv', index=False)\n",
    "print(\"Processed data saved to '../data/hd_data_preprocessed.csv'\")"
   ],
   "id": "c140cb3007af37fe",
   "outputs": [
    {
     "name": "stdout",
     "output_type": "stream",
     "text": [
      "Processed data saved to '../data/heart_disease_data_preprocessed.csv'\n"
     ]
    }
   ],
   "execution_count": 153
  },
  {
   "metadata": {
    "ExecuteTime": {
     "end_time": "2024-10-12T19:42:13.941940Z",
     "start_time": "2024-10-12T19:42:13.938112Z"
    }
   },
   "cell_type": "code",
   "source": "df.info()",
   "id": "38d2e97010ad2b55",
   "outputs": [
    {
     "name": "stdout",
     "output_type": "stream",
     "text": [
      "<class 'pandas.core.frame.DataFrame'>\n",
      "Index: 429 entries, 0 to 918\n",
      "Data columns (total 16 columns):\n",
      " #   Column    Non-Null Count  Dtype  \n",
      "---  ------    --------------  -----  \n",
      " 0   id        429 non-null    float64\n",
      " 1   age       429 non-null    float64\n",
      " 2   sex       429 non-null    int64  \n",
      " 3   dataset   429 non-null    int64  \n",
      " 4   cp        429 non-null    int64  \n",
      " 5   trestbps  429 non-null    float64\n",
      " 6   chol      429 non-null    float64\n",
      " 7   fbs       429 non-null    int64  \n",
      " 8   restecg   429 non-null    int64  \n",
      " 9   thalch    429 non-null    float64\n",
      " 10  exang     429 non-null    int64  \n",
      " 11  oldpeak   429 non-null    float64\n",
      " 12  slope     429 non-null    int64  \n",
      " 13  ca        429 non-null    float64\n",
      " 14  thal      429 non-null    int64  \n",
      " 15  num       429 non-null    float64\n",
      "dtypes: float64(8), int64(8)\n",
      "memory usage: 57.0 KB\n"
     ]
    }
   ],
   "execution_count": 154
  }
 ],
 "metadata": {
  "kernelspec": {
   "display_name": "Python 3",
   "language": "python",
   "name": "python3"
  },
  "language_info": {
   "codemirror_mode": {
    "name": "ipython",
    "version": 2
   },
   "file_extension": ".py",
   "mimetype": "text/x-python",
   "name": "python",
   "nbconvert_exporter": "python",
   "pygments_lexer": "ipython2",
   "version": "2.7.6"
  }
 },
 "nbformat": 4,
 "nbformat_minor": 5
}
