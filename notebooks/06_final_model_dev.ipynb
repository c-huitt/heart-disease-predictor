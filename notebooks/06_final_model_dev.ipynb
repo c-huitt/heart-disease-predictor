{
 "cells": [
  {
   "metadata": {
    "ExecuteTime": {
     "end_time": "2024-10-22T21:45:32.947507Z",
     "start_time": "2024-10-22T21:45:32.943963Z"
    }
   },
   "cell_type": "code",
   "source": [
    "from src.model_dev import *\n",
    "from lightgbm import LGBMClassifier\n",
    "from xgboost import XGBClassifier\n",
    "from sklearn.neighbors import KNeighborsClassifier\n",
    "from sklearn.ensemble import GradientBoostingClassifier\n",
    "from sklearn.preprocessing import LabelEncoder\n",
    "import joblib"
   ],
   "id": "6b3655433110d83d",
   "outputs": [],
   "execution_count": 33
  },
  {
   "metadata": {
    "ExecuteTime": {
     "end_time": "2024-10-22T21:45:32.960264Z",
     "start_time": "2024-10-22T21:45:32.954819Z"
    }
   },
   "cell_type": "code",
   "source": [
    "data = pd.read_csv('../data/hd_data_preprocessed.csv')\n",
    "\n",
    "selected_features = ['ca', 'oldpeak', 'age', 'chol', 'thalch', 'thal', 'trestbps']\n",
    "X = data[selected_features]\n",
    "y = data['num']"
   ],
   "id": "313b6d3192450be2",
   "outputs": [],
   "execution_count": 34
  },
  {
   "metadata": {
    "ExecuteTime": {
     "end_time": "2024-10-22T21:45:32.988020Z",
     "start_time": "2024-10-22T21:45:32.985969Z"
    }
   },
   "cell_type": "code",
   "source": [
    "Label_Encoder = LabelEncoder()\n",
    "\n",
    "for col in X.columns:\n",
    "    if X[col].dtype == 'object' or X[col].dtype == 'category':\n",
    "        X[col] = Label_Encoder.fit_transform(X[col])\n",
    "    else:\n",
    "        pass"
   ],
   "id": "3fdd56ad7771ef46",
   "outputs": [],
   "execution_count": 35
  },
  {
   "metadata": {
    "ExecuteTime": {
     "end_time": "2024-10-22T21:45:33.012059Z",
     "start_time": "2024-10-22T21:45:33.009698Z"
    }
   },
   "cell_type": "code",
   "source": [
    "# Split the data\n",
    "X_train, X_test, y_train, y_test = split_data(X, y)"
   ],
   "id": "f086a08ea953769",
   "outputs": [],
   "execution_count": 36
  },
  {
   "metadata": {
    "ExecuteTime": {
     "end_time": "2024-10-22T21:45:33.034170Z",
     "start_time": "2024-10-22T21:45:33.030611Z"
    }
   },
   "cell_type": "code",
   "source": [
    "models = [\n",
    "    ('Logistic Regression', LogisticRegression(random_state=42)),\n",
    "    ('Random Forest', RandomForestClassifier(random_state=42)),\n",
    "    ('Gradient Boosting', GradientBoostingClassifier(random_state=42)),\n",
    "    ('KNeighbors', KNeighborsClassifier()),\n",
    "    ('SVM', SVC(probability=True, random_state=42)),\n",
    "    ('XGBoost', XGBClassifier(random_state=42)),\n",
    "    ('LightGBM', LGBMClassifier(random_state=42))\n",
    "]"
   ],
   "id": "2f2637b9825bda45",
   "outputs": [],
   "execution_count": 37
  },
  {
   "metadata": {
    "ExecuteTime": {
     "end_time": "2024-10-22T21:45:44.020151Z",
     "start_time": "2024-10-22T21:45:33.052755Z"
    }
   },
   "cell_type": "code",
   "source": [
    "metric_weights = {\n",
    "    'Accuracy': 0.2,\n",
    "    'Precision': 0.2,\n",
    "    'Recall': 0.2,\n",
    "    'F1 Score': 0.3,\n",
    "    'ROC-AUC': 0.1\n",
    "}\n",
    "\n",
    "results, best_model, best_model_name = evaluate_models(X_train, X_test, y_train, y_test, models, metric_weights)"
   ],
   "id": "7d92dc0365519d70",
   "outputs": [],
   "execution_count": 38
  },
  {
   "metadata": {
    "ExecuteTime": {
     "end_time": "2024-10-22T21:45:44.042733Z",
     "start_time": "2024-10-22T21:45:44.040197Z"
    }
   },
   "cell_type": "code",
   "source": [
    "for name, metrics in results.items():\n",
    "    print(f\"Model: {name}\")\n",
    "    for metric, value in metrics.items():\n",
    "        if metric != \"Confusion Matrix\":\n",
    "            print(f\"{metric}: {value:.4f}\")\n",
    "        else:\n",
    "            print(f\"{metric}:\\n{value}\")\n",
    "    print()\n"
   ],
   "id": "e3573df39490d132",
   "outputs": [
    {
     "name": "stdout",
     "output_type": "stream",
     "text": [
      "Model: Logistic Regression\n",
      "Cross-Validation Accuracy: 0.5567\n",
      "Test Accuracy: 0.6202\n",
      "Precision: 0.5543\n",
      "Recall: 0.4144\n",
      "F1 Score: 0.4235\n",
      "Confusion Matrix:\n",
      "[[47  7  0  1  0]\n",
      " [11 24  0  0  0]\n",
      " [ 2  1  2  4  2]\n",
      " [ 0  9  0  7  4]\n",
      " [ 0  5  0  3  0]]\n",
      "ROC-AUC: 0.8114\n",
      "Weighted Score: 0.5260\n",
      "\n",
      "Model: Random Forest\n",
      "Cross-Validation Accuracy: 0.6033\n",
      "Test Accuracy: 0.6667\n",
      "Precision: 0.4519\n",
      "Recall: 0.4740\n",
      "F1 Score: 0.4621\n",
      "Confusion Matrix:\n",
      "[[47  6  2  0  0]\n",
      " [ 7 26  2  0  0]\n",
      " [ 2  2  3  4  0]\n",
      " [ 2  4  3 10  1]\n",
      " [ 0  2  1  5  0]]\n",
      "ROC-AUC: 0.8532\n",
      "Weighted Score: 0.5425\n",
      "\n",
      "Model: Gradient Boosting\n",
      "Cross-Validation Accuracy: 0.5767\n",
      "Test Accuracy: 0.6589\n",
      "Precision: 0.4524\n",
      "Recall: 0.4577\n",
      "F1 Score: 0.4541\n",
      "Confusion Matrix:\n",
      "[[48  5  1  0  1]\n",
      " [ 4 26  4  0  1]\n",
      " [ 2  2  3  4  0]\n",
      " [ 2  3  3  8  4]\n",
      " [ 0  2  1  5  0]]\n",
      "ROC-AUC: 0.8287\n",
      "Weighted Score: 0.5329\n",
      "\n",
      "Model: KNeighbors\n",
      "Cross-Validation Accuracy: 0.5233\n",
      "Test Accuracy: 0.5349\n",
      "Precision: 0.3489\n",
      "Recall: 0.3516\n",
      "F1 Score: 0.3440\n",
      "Confusion Matrix:\n",
      "[[41 13  1  0  0]\n",
      " [13 20  1  1  0]\n",
      " [ 2  5  1  3  0]\n",
      " [ 1  9  3  7  0]\n",
      " [ 0  3  2  3  0]]\n",
      "ROC-AUC: 0.7158\n",
      "Weighted Score: 0.4218\n",
      "\n",
      "Model: SVM\n",
      "Cross-Validation Accuracy: 0.5567\n",
      "Test Accuracy: 0.6279\n",
      "Precision: 0.4036\n",
      "Recall: 0.4244\n",
      "F1 Score: 0.4117\n",
      "Confusion Matrix:\n",
      "[[47  6  2  0  0]\n",
      " [10 24  0  1  0]\n",
      " [ 2  2  2  5  0]\n",
      " [ 0  8  4  8  0]\n",
      " [ 0  2  0  6  0]]\n",
      "ROC-AUC: 0.8447\n",
      "Weighted Score: 0.4992\n",
      "\n",
      "Model: XGBoost\n",
      "Cross-Validation Accuracy: 0.5933\n",
      "Test Accuracy: 0.6667\n",
      "Precision: 0.5165\n",
      "Recall: 0.5263\n",
      "F1 Score: 0.5131\n",
      "Confusion Matrix:\n",
      "[[45  6  3  1  0]\n",
      " [ 3 26  4  1  1]\n",
      " [ 2  2  6  0  1]\n",
      " [ 1  3  5  8  3]\n",
      " [ 0  2  0  5  1]]\n",
      "ROC-AUC: 0.8299\n",
      "Weighted Score: 0.5788\n",
      "\n",
      "Model: LightGBM\n",
      "Cross-Validation Accuracy: 0.5933\n",
      "Test Accuracy: 0.6667\n",
      "Precision: 0.4811\n",
      "Recall: 0.4766\n",
      "F1 Score: 0.4767\n",
      "Confusion Matrix:\n",
      "[[47  5  2  1  0]\n",
      " [ 4 27  3  1  0]\n",
      " [ 2  2  2  4  1]\n",
      " [ 2  2  4  9  3]\n",
      " [ 0  2  1  4  1]]\n",
      "ROC-AUC: 0.8077\n",
      "Weighted Score: 0.5486\n",
      "\n"
     ]
    }
   ],
   "execution_count": 39
  },
  {
   "metadata": {
    "ExecuteTime": {
     "end_time": "2024-10-22T21:45:44.064712Z",
     "start_time": "2024-10-22T21:45:44.062431Z"
    }
   },
   "cell_type": "code",
   "source": [
    "print(f\"Best Model: {best_model.named_steps['model']}\")\n",
    "print(f\"Best Model Name: {best_model_name}\")\n",
    "print(f\"Best Weighted Score: {results[best_model_name]['Weighted Score']:.4f}\")"
   ],
   "id": "8ca6ca0b654df70e",
   "outputs": [
    {
     "name": "stdout",
     "output_type": "stream",
     "text": [
      "Best Model: XGBClassifier(base_score=None, booster=None, callbacks=None,\n",
      "              colsample_bylevel=None, colsample_bynode=None,\n",
      "              colsample_bytree=None, device=None, early_stopping_rounds=None,\n",
      "              enable_categorical=False, eval_metric=None, feature_types=None,\n",
      "              gamma=None, grow_policy=None, importance_type=None,\n",
      "              interaction_constraints=None, learning_rate=None, max_bin=None,\n",
      "              max_cat_threshold=None, max_cat_to_onehot=None,\n",
      "              max_delta_step=None, max_depth=None, max_leaves=None,\n",
      "              min_child_weight=None, missing=nan, monotone_constraints=None,\n",
      "              multi_strategy=None, n_estimators=None, n_jobs=None,\n",
      "              num_parallel_tree=None, objective='multi:softprob', ...)\n",
      "Best Model Name: XGBoost\n",
      "Best Weighted Score: 0.5788\n"
     ]
    }
   ],
   "execution_count": 40
  },
  {
   "metadata": {
    "ExecuteTime": {
     "end_time": "2024-10-22T21:56:03.797160Z",
     "start_time": "2024-10-22T21:45:44.102288Z"
    }
   },
   "cell_type": "code",
   "source": "tuned_models = tune_all_models(X_train, y_train, X_test, y_test, metric_weights=metric_weights)",
   "id": "8459a2dcd23fcd48",
   "outputs": [
    {
     "name": "stdout",
     "output_type": "stream",
     "text": [
      "\n",
      "Tuning Logistic Regression...\n",
      "Fitting 5 folds for each of 50 candidates, totalling 250 fits\n",
      "Best parameters for Logistic Regression:\n",
      "{'model__solver': 'sag', 'model__penalty': 'l2', 'model__C': 545.5594781168514}\n",
      "Weighted score: 0.5110\n",
      "\n",
      "Tuning Random Forest...\n",
      "Fitting 5 folds for each of 50 candidates, totalling 250 fits\n",
      "Best parameters for Random Forest:\n",
      "{'model__n_estimators': 800, 'model__min_samples_split': 11, 'model__min_samples_leaf': 2, 'model__max_features': None, 'model__max_depth': 11}\n",
      "Weighted score: 0.5536\n",
      "\n",
      "Tuning Gradient Boosting...\n",
      "Fitting 5 folds for each of 50 candidates, totalling 250 fits\n",
      "Best parameters for Gradient Boosting:\n",
      "{'model__subsample': 0.5, 'model__n_estimators': 800, 'model__max_features': None, 'model__max_depth': 7, 'model__learning_rate': 0.046415888336127774}\n",
      "Weighted score: 0.5463\n",
      "\n",
      "Tuning KNeighbors...\n",
      "Fitting 5 folds for each of 50 candidates, totalling 250 fits\n",
      "Best parameters for KNeighbors:\n",
      "{'model__weights': 'distance', 'model__n_neighbors': 15, 'model__metric': 'manhattan'}\n",
      "Weighted score: 0.5102\n",
      "\n",
      "Tuning SVM...\n",
      "Fitting 5 folds for each of 50 candidates, totalling 250 fits\n",
      "Best parameters for SVM:\n",
      "{'model__kernel': 'rbf', 'model__gamma': 0.021544346900318832, 'model__C': 215.44346900318823}\n",
      "Weighted score: 0.5297\n",
      "\n",
      "Tuning XGBoost...\n",
      "Fitting 5 folds for each of 50 candidates, totalling 250 fits\n",
      "Best parameters for XGBoost:\n",
      "{'model__subsample': 0.7999999999999999, 'model__n_estimators': 500, 'model__min_child_weight': 1, 'model__max_depth': 9, 'model__learning_rate': 0.01, 'model__colsample_bytree': 0.8999999999999999}\n",
      "Weighted score: 0.5834\n",
      "\n",
      "Tuning LightGBM...\n",
      "Fitting 5 folds for each of 50 candidates, totalling 250 fits\n",
      "Best parameters for LightGBM:\n",
      "{'model__subsample': 0.7999999999999999, 'model__num_leaves': 90, 'model__n_estimators': 700, 'model__max_depth': 5, 'model__learning_rate': 0.46415888336127775, 'model__colsample_bytree': 0.8999999999999999}\n",
      "Weighted score: 0.5343\n"
     ]
    }
   ],
   "execution_count": 41
  },
  {
   "metadata": {
    "ExecuteTime": {
     "end_time": "2024-10-22T21:56:03.806151Z",
     "start_time": "2024-10-22T21:56:03.803537Z"
    }
   },
   "cell_type": "code",
   "source": [
    "best_model_name = max(tuned_models, key=lambda x: tuned_models[x].get('best_score', float('-inf')))\n",
    "best_model = tuned_models[best_model_name]['best_estimator']\n",
    "print(f\"\\nBest overall model: {best_model_name}\")\n",
    "print(f\"Best overall score: {tuned_models[best_model_name]['best_score']:.4f}\")"
   ],
   "id": "89cebd231973fcca",
   "outputs": [
    {
     "name": "stdout",
     "output_type": "stream",
     "text": [
      "\n",
      "Best overall model: XGBoost\n",
      "Best overall score: 0.5834\n"
     ]
    }
   ],
   "execution_count": 42
  },
  {
   "metadata": {
    "ExecuteTime": {
     "end_time": "2024-10-22T21:56:03.837243Z",
     "start_time": "2024-10-22T21:56:03.829403Z"
    }
   },
   "cell_type": "code",
   "source": "sorted_models = sorted(tuned_models.items(), key=lambda x: x[1]['best_score'], reverse=True)",
   "id": "c5b31cbee25099c6",
   "outputs": [],
   "execution_count": 43
  },
  {
   "cell_type": "code",
   "id": "initial_id",
   "metadata": {
    "collapsed": true,
    "ExecuteTime": {
     "end_time": "2024-10-22T21:56:04.063630Z",
     "start_time": "2024-10-22T21:56:03.857079Z"
    }
   },
   "source": [
    "top_3_models = {}\n",
    "for i, (model_name, model_info) in enumerate(sorted_models[:3]):\n",
    "    rank = i + 1\n",
    "    file_name = f'../models/rank_{rank}_{model_name.lower().replace(\" \", \"_\")}_model_final.joblib'\n",
    "    save_model(model_info['best_estimator'], file_name)\n",
    "    print(f\"Rank {rank} model ({model_name}) saved to '{file_name}'\")\n",
    "    print(f\"Weighted Score: {model_info['best_score']:.4f}\")\n",
    "    print(f\"Parameters: {model_info['best_params']}\")\n",
    "    print()\n",
    "\n",
    "    top_3_models[model_name] = {\n",
    "        'rank': rank,\n",
    "        'score': model_info['best_score'],\n",
    "        'file_name': file_name\n",
    "    }\n",
    "    \n",
    "    print(f\"Metrics for {model_name}:\")\n",
    "    for metric_name, metric_value in model_info['metrics'].items():\n",
    "        if metric_name != \"Confusion Matrix\":\n",
    "            print(f\"{metric_name}: {metric_value:.4f}\")\n",
    "        else:\n",
    "            print(f\"{metric_name}:\\n{metric_value}\")\n",
    "    print()\n",
    "\n",
    "joblib.dump(top_3_models, '../models/top_3_models_info_final.joblib')\n",
    "print(\"Information about top 3 models saved to '../models/top_3_models_info_final.joblib'\")\n"
   ],
   "outputs": [
    {
     "name": "stdout",
     "output_type": "stream",
     "text": [
      "Rank 1 model (XGBoost) saved to '../models/rank_1_xgboost_model_final.joblib'\n",
      "Weighted Score: 0.5834\n",
      "Parameters: {'model__subsample': 0.7999999999999999, 'model__n_estimators': 500, 'model__min_child_weight': 1, 'model__max_depth': 9, 'model__learning_rate': 0.01, 'model__colsample_bytree': 0.8999999999999999}\n",
      "\n",
      "Metrics for XGBoost:\n",
      "accuracy: 0.6977\n",
      "precision: 0.4967\n",
      "recall: 0.5304\n",
      "f1: 0.5127\n",
      "roc_auc: 0.8462\n",
      "\n",
      "Rank 2 model (Random Forest) saved to '../models/rank_2_random_forest_model_final.joblib'\n",
      "Weighted Score: 0.5536\n",
      "Parameters: {'model__n_estimators': 800, 'model__min_samples_split': 11, 'model__min_samples_leaf': 2, 'model__max_features': None, 'model__max_depth': 11}\n",
      "\n",
      "Metrics for Random Forest:\n",
      "accuracy: 0.6822\n",
      "precision: 0.4628\n",
      "recall: 0.4813\n",
      "f1: 0.4715\n",
      "roc_auc: 0.8692\n",
      "\n",
      "Rank 3 model (Gradient Boosting) saved to '../models/rank_3_gradient_boosting_model_final.joblib'\n",
      "Weighted Score: 0.5463\n",
      "Parameters: {'model__subsample': 0.5, 'model__n_estimators': 800, 'model__max_features': None, 'model__max_depth': 7, 'model__learning_rate': 0.046415888336127774}\n",
      "\n",
      "Metrics for Gradient Boosting:\n",
      "accuracy: 0.6667\n",
      "precision: 0.4764\n",
      "recall: 0.4703\n",
      "f1: 0.4725\n",
      "roc_auc: 0.8187\n",
      "\n",
      "Information about top 3 models saved to '../models/top_3_models_info_final.joblib'\n"
     ]
    }
   ],
   "execution_count": 44
  },
  {
   "metadata": {
    "ExecuteTime": {
     "end_time": "2024-10-22T21:56:04.084739Z",
     "start_time": "2024-10-22T21:56:04.082914Z"
    }
   },
   "cell_type": "code",
   "source": [
    "print(\"\\nTop 3 Models Summary:\")\n",
    "for model_name, info in top_3_models.items():\n",
    "    print(f\"Rank {info['rank']}: {model_name} (Score: {info['score']:.4f})\")"
   ],
   "id": "5ff5b69459e66ca",
   "outputs": [
    {
     "name": "stdout",
     "output_type": "stream",
     "text": [
      "\n",
      "Top 3 Models Summary:\n",
      "Rank 1: XGBoost (Score: 0.5834)\n",
      "Rank 2: Random Forest (Score: 0.5536)\n",
      "Rank 3: Gradient Boosting (Score: 0.5463)\n"
     ]
    }
   ],
   "execution_count": 45
  }
 ],
 "metadata": {
  "kernelspec": {
   "display_name": "Python 3",
   "language": "python",
   "name": "python3"
  },
  "language_info": {
   "codemirror_mode": {
    "name": "ipython",
    "version": 2
   },
   "file_extension": ".py",
   "mimetype": "text/x-python",
   "name": "python",
   "nbconvert_exporter": "python",
   "pygments_lexer": "ipython2",
   "version": "2.7.6"
  }
 },
 "nbformat": 4,
 "nbformat_minor": 5
}
